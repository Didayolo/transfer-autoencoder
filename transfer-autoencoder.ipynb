{
 "cells": [
  {
   "cell_type": "markdown",
   "metadata": {},
   "source": [
    "# Transfer AE\n",
    "\n",
    "_Use an autoencoder pre-trained on many sources as tranfer-learning preprocessing (feature extractor)._\n",
    "\n",
    "## What?\n",
    "\n",
    "![transferAE](transferAE.jpg)\n",
    "\n",
    "## Why?\n",
    "\n",
    "* Toute donnée est bonne à prendre (data driven). Les datasets s'entraident malgré la différence de leurs tâches. C'est la similitude entre les P(X) qui nous intéresse en premier lieu et aide par la suite à calculer les P(y|X) respectifs. Ainsi on peut tirer un avantage de données de sources très variées (different shapes and tasks).\n",
    "\n",
    "* **Hypothèse : Il y a des connaissances générales communes à des données d'apparence éloignées.** L'espace des possibles est extrêmement grand. La \"fenêtre\" (sous-espace) ouverte par les données est très précises au final donc toute donnée affine un modèle (e.g. autoencoder). Autrement dit, l'ensemble des entrées plausibles est très petit.\n",
    "\n",
    "* En gros on compresse des données pour les emmener avec soit.\n",
    "\n",
    "**Plasticité : taux d'apprentissage de l'encoder (notamment pendant l'apprentissage d'un modèle).**\n",
    "\n",
    "Pas forcément besoin d'une plasticité élevée pour bien généraliser?\n",
    "\n",
    "\n",
    "L'AE apprend quelque chose de beaucoup plus général qu'un discriminant sur les données car il doit reconstituer l'information et non pas simplement répondre à une question dessus. **C'est une bonne chose pour généraliser mais il s'agit d'un problème beaucoup plus difficile, l'entrainement pourrait donc s'avérer moins efficace.**\n",
    "\n",
    "\n",
    "## How?"
   ]
  },
  {
   "cell_type": "markdown",
   "metadata": {},
   "source": [
    "# 1. Input shaper\n",
    "\n",
    "On souhaite que le modèle puisse gérer des input data de differentes shapes.\n",
    "\n",
    "* Soit un réseau capable de gerer des entrées de taille différentes;\n",
    "* Soit un processing qui les mets au même format (padding and/or resizing)\n",
    "\n",
    "\n",
    "#### One shape to rule them all\n",
    "\n",
    "4D tensor : (row_count, col_count, channel, time)"
   ]
  },
  {
   "cell_type": "code",
   "execution_count": 34,
   "metadata": {},
   "outputs": [
    {
     "name": "stdout",
     "output_type": "stream",
     "text": [
      "The autoreload extension is already loaded. To reload it, use:\n",
      "  %reload_ext autoreload\n"
     ]
    }
   ],
   "source": [
    "# Imports\n",
    "import tensorflow as tf\n",
    "from IPython.display import Image, SVG\n",
    "import matplotlib.pyplot as plt\n",
    "%matplotlib inline\n",
    "import numpy as np\n",
    "from data_manager import *\n",
    "from model import *\n",
    "%load_ext autoreload\n",
    "%autoreload 2"
   ]
  },
  {
   "cell_type": "code",
   "execution_count": 39,
   "metadata": {},
   "outputs": [],
   "source": [
    "# Parameters\n",
    "models_path = 'models'\n",
    "load = True\n",
    "save = True\n",
    "verbose = False\n",
    "shape = (1, 52, 52, 3)\n",
    "padding = False\n",
    "autoencoder_name = 'autoencoder'\n",
    "autoencoder_path = os.path.join(models_path, autoencoder_name+'.h5')"
   ]
  },
  {
   "cell_type": "code",
   "execution_count": 40,
   "metadata": {},
   "outputs": [],
   "source": [
    "# Dataset list\n",
    "input_dir = '/home/adrien/Documents/autodl-data/image/formatted_datasets/'\n",
    "datasets = os.listdir(input_dir)\n",
    "#print(datasets) # hidding datasets name for security reasons"
   ]
  },
  {
   "cell_type": "code",
   "execution_count": 65,
   "metadata": {},
   "outputs": [],
   "source": [
    "training_datasets = ['munster', 'loukoum', 'tristan']\n",
    "\n",
    "# Load a dataset\n",
    "x_train, y_train, x_test, y_test = load_dataset(input_dir, training_datasets[0], \n",
    "                                                batch_size=256, shape=shape, padding=padding)"
   ]
  },
  {
   "cell_type": "code",
   "execution_count": 66,
   "metadata": {},
   "outputs": [
    {
     "name": "stdout",
     "output_type": "stream",
     "text": [
      "Shape: (1, 52, 52, 3)\n",
      "Label: [0. 0. 0. 0. 0. 0. 1. 0. 0. 0.]\n"
     ]
    },
    {
     "data": {
      "image/png": "[encoded data removed]",
      "text/plain": [
       "<Figure size 432x288 with 1 Axes>"
      ]
     },
     "metadata": {
      "needs_background": "light"
     },
     "output_type": "display_data"
    }
   ],
   "source": [
    "# Tests, visualization\n",
    "with tf.Session() as sess:\n",
    "    tensor_4d, labels = sess.run(x_train), sess.run(y_train)\n",
    "\n",
    "n = 0\n",
    "show_example(tensor_4d[n], labels[n])"
   ]
  },
  {
   "cell_type": "markdown",
   "metadata": {},
   "source": [
    "# 2. Autoencoder\n",
    "\n",
    "Unsupervised, no task. Train on every datasets.\n",
    "\n",
    "Plutôt que d'avoir un modèle génératif qui permet de faire de l'augmentation de données, celui-ci apprend une représentation abstraite des données."
   ]
  },
  {
   "cell_type": "code",
   "execution_count": 43,
   "metadata": {},
   "outputs": [
    {
     "name": "stdout",
     "output_type": "stream",
     "text": [
      "autoencoder.h5 loaded.\n",
      "encoder initialized.\n",
      "model initialized.\n"
     ]
    }
   ],
   "source": [
    "tae = TAE(autoencoder_name='autoencoder', shape=shape, load=load, path=autoencoder_path)"
   ]
  },
  {
   "cell_type": "code",
   "execution_count": 51,
   "metadata": {},
   "outputs": [
    {
     "name": "stdout",
     "output_type": "stream",
     "text": [
      "Training on munster\n",
      "Epoch 1/1\n",
      "10/10 [==============================] - 23s 2s/step - loss: 31.2344 - val_loss: 30.8999\n",
      "Training on loukoum\n",
      "Epoch 1/1\n",
      "10/10 [==============================] - 23s 2s/step - loss: 134.6068 - val_loss: 131.4543\n",
      "Training on tristan\n",
      "Epoch 1/1\n",
      "10/10 [==============================] - 22s 2s/step - loss: 138.5850 - val_loss: 116.8140\n",
      "autoencoder.h5 saved.\n"
     ]
    }
   ],
   "source": [
    "# Train and save autoencoder\n",
    "meta_epoch = 1\n",
    "for _ in range(meta_epoch):\n",
    "    for dataset in training_datasets:\n",
    "        print('Training on', dataset)\n",
    "        x_train, y_train, x_test, y_test = load_dataset(input_dir, dataset, \n",
    "                                                        batch_size=256, \n",
    "                                                        shape=shape, \n",
    "                                                        padding=padding,\n",
    "                                                        train_test_split=True,\n",
    "                                                        test_size=5000) \n",
    "        tae.autoencoder.fit(x_train, x_train, \n",
    "                            epochs=1, \n",
    "                            steps_per_epoch=10, \n",
    "                            validation_data=(x_test, x_test), \n",
    "                            validation_steps=10)\n",
    "\n",
    "if save:\n",
    "    tae.save_autoencoder(autoencoder_path)"
   ]
  },
  {
   "cell_type": "code",
   "execution_count": 67,
   "metadata": {},
   "outputs": [
    {
     "name": "stdout",
     "output_type": "stream",
     "text": [
      "Shape: (1, 52, 52, 3)\n"
     ]
    },
    {
     "data": {
      "image/png": "[encoded data removed]",
      "text/plain": [
       "<Figure size 432x288 with 1 Axes>"
      ]
     },
     "metadata": {
      "needs_background": "light"
     },
     "output_type": "display_data"
    }
   ],
   "source": [
    "reconstructed_tensor_4d = tae.autoencoder.predict(tensor_4d)\n",
    "show_example(reconstructed_tensor_4d[n])"
   ]
  },
  {
   "cell_type": "markdown",
   "metadata": {},
   "source": [
    "# 3. Model\n",
    "\n",
    "Un discriminant unique pour chaque problème de chaque dataset."
   ]
  },
  {
   "cell_type": "code",
   "execution_count": 63,
   "metadata": {},
   "outputs": [],
   "source": [
    "testing_datasets = ['loukoum'] # 'munster', 'tristan'"
   ]
  },
  {
   "cell_type": "code",
   "execution_count": 64,
   "metadata": {},
   "outputs": [
    {
     "name": "stdout",
     "output_type": "stream",
     "text": [
      "Testing on munster\n",
      "10\n",
      "model initialized.\n",
      "Epoch 1/1\n",
      "100/100 [==============================] - 148s 1s/step - loss: 0.5389 - acc: 0.8379\n",
      "100/100 [==============================] - 28s 281ms/step\n",
      "[0.19754215121269225, 0.94328125]\n"
     ]
    }
   ],
   "source": [
    "# Train and evaluate model\n",
    "for dataset in testing_datasets:\n",
    "    print('Testing on', dataset)\n",
    "    x_train, y_train, x_test, y_test = load_dataset(input_dir, dataset, \n",
    "                                                    batch_size=256, \n",
    "                                                    shape=shape, \n",
    "                                                    padding=padding,\n",
    "                                                    train_test_split=True,\n",
    "                                                    test_size=5000)\n",
    "    \n",
    "    with tf.Session() as sess:\n",
    "        tensor_4d, labels = sess.run(x_train), sess.run(y_train)\n",
    "        output_dim = labels[0].shape[0]\n",
    "        print(output_dim)\n",
    "        \n",
    "    model = tae.init_model(output_dim=output_dim)\n",
    "    model.fit(x_train, y_train, epochs=1, steps_per_epoch=100)\n",
    "    print(model.evaluate(x_test, y_test, steps=100))"
   ]
  },
  {
   "cell_type": "code",
   "execution_count": 78,
   "metadata": {},
   "outputs": [],
   "source": [
    "# Model : SVM\n",
    "#from sklearn.svm import SVC\n",
    "\n",
    "#clf = SVC(C=6, kernel='poly')\n",
    "\n",
    "# extract features\n",
    "#features_train = encoder.predict(x_train, steps=1)\n",
    "#features_test = encoder.predict(x_test, steps=1)\n",
    "\n",
    "#clf.fit(features_train, y_train)\n",
    "#clf.score(features_test, y_test)"
   ]
  },
  {
   "cell_type": "code",
   "execution_count": null,
   "metadata": {},
   "outputs": [],
   "source": []
  }
 ],
 "metadata": {
  "kernelspec": {
   "display_name": "p35_jupyter",
   "language": "python",
   "name": "p35_jupyter"
  },
  "language_info": {
   "codemirror_mode": {
    "name": "ipython",
    "version": 3
   },
   "file_extension": ".py",
   "mimetype": "text/x-python",
   "name": "python",
   "nbconvert_exporter": "python",
   "pygments_lexer": "ipython3",
   "version": "3.5.6"
  }
 },
 "nbformat": 4,
 "nbformat_minor": 2
}
