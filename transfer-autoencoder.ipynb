{
 "cells": [
  {
   "cell_type": "markdown",
   "metadata": {},
   "source": [
    "# Transfer AE\n",
    "\n",
    "_Use an autoencoder pre-trained on many sources as tranfer-learning preprocessing (feature extractor)._\n",
    "\n",
    "## What?\n",
    "\n",
    "![transferAE](transferAE.jpg)\n",
    "\n",
    "## Why?\n",
    "\n",
    "* Toute donnée est bonne à prendre (data driven). Les datasets s'entraident malgré la différence de leurs tâches. C'est la similitude entre les P(X) qui nous intéresse en premier lieu et aide par la suite à calculer les P(y|X) respectifs. Ainsi on peut tirer un avantage de données de sources très variées (different shapes and tasks).\n",
    "\n",
    "* **Hypothèse : Il y a des connaissances générales communes à des données d'apparence éloignées.** L'espace des possibles est extrêmement grand. La \"fenêtre\" (sous-espace) ouverte par les données est très précises au final donc toute donnée affine un modèle (e.g. autoencoder). Autrement dit, l'ensemble des entrées plausibles est très petit.\n",
    "\n",
    "* En gros on compresse des données pour les emmener avec soit.\n",
    "\n",
    "**Plasticité : taux d'apprentissage de l'encoder (notamment pendant l'apprentissage d'un modèle).**\n",
    "\n",
    "Pas forcément besoin d'une plasticité élevée pour bien généraliser?\n",
    "\n",
    "\n",
    "L'AE apprend quelque chose de beaucoup plus général qu'un discriminant sur les données car il doit reconstituer l'information et non pas simplement répondre à une question dessus. **C'est une bonne chose pour généraliser mais il s'agit d'un problème beaucoup plus difficile, l'entrainement pourrait donc s'avérer moins efficace.**\n",
    "\n",
    "\n",
    "## How?"
   ]
  },
  {
   "cell_type": "markdown",
   "metadata": {},
   "source": [
    "# 1. Input shaper\n",
    "\n",
    "On souhaite que le modèle puisse gérer des input data de differentes shapes.\n",
    "\n",
    "* Soit un réseau capable de gerer des entrées de taille différentes;\n",
    "* Soit un processing qui les mets au même format (padding and/or resizing)\n",
    "\n",
    "\n",
    "#### One shape to rule them all\n",
    "\n",
    "4D tensor : (row_count, col_count, channel, time)"
   ]
  },
  {
   "cell_type": "code",
   "execution_count": 1,
   "metadata": {},
   "outputs": [],
   "source": [
    "import os\n",
    "import tensorflow as tf\n",
    "from IPython.display import Image, SVG\n",
    "import matplotlib.pyplot as plt\n",
    "%matplotlib inline\n",
    "import numpy as np\n",
    "Model = tf.keras.models.Model\n",
    "Sequential = tf.keras.models.Sequential\n",
    "Input, Dense, Conv2D, MaxPooling2D, UpSampling2D, Flatten, Reshape, Dropout = tf.keras.layers.Input, tf.keras.layers.Dense, tf.keras.layers.Conv2D, tf.keras.layers.MaxPooling2D, tf.keras.layers.UpSampling2D, tf.keras.layers.Flatten, tf.keras.layers.Reshape, tf.keras.layers.Dropout\n",
    "regularizers = tf.keras.regularizers\n",
    "load_model = tf.keras.models.load_model\n",
    "models_path = 'models'\n",
    "load = True\n",
    "save = True\n",
    "verbose = False\n",
    "autoencoder_name = 'autoencoder'\n",
    "autoencoder_path = os.path.join(models_path, autoencoder_name+'.h5')\n",
    "model_name = 'model'\n",
    "model_path = os.path.join(models_path, model_name+'.h5')"
   ]
  },
  {
   "cell_type": "code",
   "execution_count": 2,
   "metadata": {},
   "outputs": [],
   "source": [
    "mnist = tf.keras.datasets.mnist\n",
    "\n",
    "(x_train, y_train),(x_test, y_test) = mnist.load_data()\n",
    "x_train, x_test = x_train / 255.0, x_test / 255.0"
   ]
  },
  {
   "cell_type": "code",
   "execution_count": 3,
   "metadata": {},
   "outputs": [],
   "source": [
    "x_train = np.array(list(map(lambda x: np.expand_dims(x, axis=2), x_train)))\n",
    "x_test = np.array(list(map(lambda x: np.expand_dims(x, axis=2), x_test)))"
   ]
  },
  {
   "cell_type": "code",
   "execution_count": 4,
   "metadata": {},
   "outputs": [
    {
     "data": {
      "text/plain": [
       "<matplotlib.image.AxesImage at 0x7f0a66e5d908>"
      ]
     },
     "execution_count": 4,
     "metadata": {},
     "output_type": "execute_result"
    },
    {
     "data": {
      "image/png": "[encoded data removed]",
      "text/plain": [
       "<Figure size 432x288 with 1 Axes>"
      ]
     },
     "metadata": {
      "needs_background": "light"
     },
     "output_type": "display_data"
    }
   ],
   "source": [
    "plt.imshow(x_train[0].reshape((28,28)))"
   ]
  },
  {
   "cell_type": "code",
   "execution_count": 5,
   "metadata": {},
   "outputs": [],
   "source": [
    "input_shape = x_train.shape[1:]\n",
    "#row_shape, col_shape = x_train.shape[1:]\n",
    "#channel_shape = 1\n",
    "#input_shape = (row_shape, col_shape, channel_shape)\n",
    "\n",
    "# fixed input shape"
   ]
  },
  {
   "cell_type": "markdown",
   "metadata": {},
   "source": [
    "# 2. Autoencoder\n",
    "\n",
    "Unsupervised, no task. Train on every datasets.\n",
    "\n",
    "Plutôt que d'avoir un modèle génératif qui permet de faire de l'augmentation de données, celui-ci apprend une représentation abstraite des données."
   ]
  },
  {
   "cell_type": "code",
   "execution_count": 6,
   "metadata": {},
   "outputs": [
    {
     "name": "stdout",
     "output_type": "stream",
     "text": [
      "autoencoder loaded.\n"
     ]
    }
   ],
   "source": [
    "# Load or initialize autoencder\n",
    "if os.path.isfile(autoencoder_path) and load:\n",
    "    autoencoder = load_model(autoencoder_path)\n",
    "    print('{} loaded.'.format(autoencoder_name))\n",
    "\n",
    "else:\n",
    "    autoencoder = Sequential()\n",
    "\n",
    "    # Encoder Layers\n",
    "    autoencoder.add(Conv2D(16, (3, 3), activation='relu', padding='same', input_shape=input_shape))\n",
    "    autoencoder.add(MaxPooling2D((2, 2), padding='same'))\n",
    "    autoencoder.add(Conv2D(8, (3, 3), activation='relu', padding='same'))\n",
    "    autoencoder.add(MaxPooling2D((2, 2), padding='same'))\n",
    "    autoencoder.add(Conv2D(8, (3, 3), strides=(2,2), activation='relu', padding='same'))\n",
    "\n",
    "    # Flatten encoding for visualization\n",
    "    autoencoder.add(Flatten())\n",
    "    autoencoder.add(Reshape((4, 4, 8)))\n",
    "\n",
    "    # Decoder Layers\n",
    "    autoencoder.add(Conv2D(8, (3, 3), activation='relu', padding='same'))\n",
    "    autoencoder.add(UpSampling2D((2, 2)))\n",
    "    autoencoder.add(Conv2D(8, (3, 3), activation='relu', padding='same'))\n",
    "    autoencoder.add(UpSampling2D((2, 2)))\n",
    "    autoencoder.add(Conv2D(16, (3, 3), activation='relu'))\n",
    "    autoencoder.add(UpSampling2D((2, 2)))\n",
    "    autoencoder.add(Conv2D(1, (3, 3), activation='sigmoid', padding='same'))\n",
    "    print('{} initialized.'.format(autoencoder_name))\n",
    "    \n",
    "    if verbose:\n",
    "        autoencoder.summary()"
   ]
  },
  {
   "cell_type": "code",
   "execution_count": 7,
   "metadata": {},
   "outputs": [],
   "source": [
    "# Define encoder\n",
    "encoder = Model(inputs=autoencoder.input, outputs=autoencoder.get_layer('flatten', 5).output)\n",
    "\n",
    "if verbose:\n",
    "    encoder.summary()"
   ]
  },
  {
   "cell_type": "code",
   "execution_count": 8,
   "metadata": {},
   "outputs": [
    {
     "name": "stdout",
     "output_type": "stream",
     "text": [
      "Train on 60000 samples, validate on 10000 samples\n",
      "Epoch 1/1\n",
      "60000/60000 [==============================] - 35s 576us/step - loss: 12.9285 - val_loss: 12.5840\n",
      "autoencoder saved.\n"
     ]
    }
   ],
   "source": [
    "# Train and save autoencoder\n",
    "autoencoder.compile(optimizer='adam', loss='binary_crossentropy')\n",
    "autoencoder.fit(x_train, x_train,\n",
    "                epochs=1,\n",
    "                batch_size=128,\n",
    "                validation_data=(x_test, x_test))\n",
    "\n",
    "if save:\n",
    "    autoencoder.save(autoencoder_path)\n",
    "    print('{} saved.'.format(autoencoder_name))"
   ]
  },
  {
   "cell_type": "markdown",
   "metadata": {},
   "source": [
    "# 3. Model\n",
    "\n",
    "Un discriminant unique pour chaque problème de chaque dataset."
   ]
  },
  {
   "cell_type": "code",
   "execution_count": 9,
   "metadata": {},
   "outputs": [
    {
     "name": "stdout",
     "output_type": "stream",
     "text": [
      "model loaded.\n"
     ]
    }
   ],
   "source": [
    "# Load or define model\n",
    "if os.path.isfile(model_path) and load:\n",
    "    model = load_model(model_path)\n",
    "    print('{} loaded.'.format(model_name))\n",
    "\n",
    "else:\n",
    "    model = Sequential()\n",
    "    model.add(encoder)\n",
    "    model.add(Dense(512, activation=tf.nn.relu))\n",
    "    model.add(Dropout(0.2))\n",
    "    model.add(Dense(10, activation=tf.nn.softmax))\n",
    "\n",
    "    model.compile(optimizer='adam',\n",
    "                  loss='sparse_categorical_crossentropy',\n",
    "                  metrics=['accuracy'])\n",
    "    print('{} initialized.'.format(model_name))\n",
    "    \n",
    "if verbose:\n",
    "    model.summary()"
   ]
  },
  {
   "cell_type": "code",
   "execution_count": 10,
   "metadata": {},
   "outputs": [
    {
     "name": "stdout",
     "output_type": "stream",
     "text": [
      "Epoch 1/1\n",
      "60000/60000 [==============================] - 12s 202us/step - loss: 0.0182 - acc: 0.9940\n",
      "10000/10000 [==============================] - 1s 77us/step\n",
      "model saved.\n"
     ]
    }
   ],
   "source": [
    "# Train, save and evaluate model\n",
    "model.fit(x_train, y_train, epochs=1)\n",
    "model.evaluate(x_test, y_test)\n",
    "\n",
    "if save:\n",
    "    model.save(model_path)\n",
    "    print('{} saved.'.format(model_name))"
   ]
  },
  {
   "cell_type": "code",
   "execution_count": null,
   "metadata": {},
   "outputs": [],
   "source": []
  }
 ],
 "metadata": {
  "kernelspec": {
   "display_name": "p35_jupyter",
   "language": "python",
   "name": "p35_jupyter"
  },
  "language_info": {
   "codemirror_mode": {
    "name": "ipython",
    "version": 3
   },
   "file_extension": ".py",
   "mimetype": "text/x-python",
   "name": "python",
   "nbconvert_exporter": "python",
   "pygments_lexer": "ipython3",
   "version": "3.5.6"
  }
 },
 "nbformat": 4,
 "nbformat_minor": 2
}
