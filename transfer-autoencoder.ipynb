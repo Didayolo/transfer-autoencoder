{
 "cells": [
  {
   "cell_type": "markdown",
   "metadata": {},
   "source": [
    "# Transfer AE\n",
    "\n",
    "_Use an autoencoder pre-trained on many sources as tranfer-learning preprocessing (feature extractor)._\n",
    "\n",
    "## What?\n",
    "\n",
    "![transferAE](transferAE.jpg)\n",
    "\n",
    "## Why?\n",
    "\n",
    "* Toute donnée est bonne à prendre (data driven). Les datasets s'entraident malgré la différence de leurs tâches. C'est la similitude entre les P(X) qui nous intéresse en premier lieu et aide par la suite à calculer les P(y|X) respectifs. Ainsi on peut tirer un avantage de données de sources très variées (different shapes and tasks).\n",
    "\n",
    "* **Hypothèse : Il y a des connaissances générales communes à des données d'apparence éloignées.** L'espace des possibles est extrêmement grand. La \"fenêtre\" (sous-espace) ouverte par les données est très précises au final donc toute donnée affine un modèle (e.g. autoencoder). Autrement dit, l'ensemble des entrées plausibles est très petit.\n",
    "\n",
    "* En gros on compresse des données pour les emmener avec soit.\n",
    "\n",
    "**Plasticité : taux d'apprentissage de l'encoder (notamment pendant l'apprentissage d'un modèle).**\n",
    "\n",
    "Pas forcément besoin d'une plasticité élevée pour bien généraliser?\n",
    "\n",
    "\n",
    "L'AE apprend quelque chose de beaucoup plus général qu'un discriminant sur les données car il doit reconstituer l'information et non pas simplement répondre à une question dessus. **C'est une bonne chose pour généraliser mais il s'agit d'un problème beaucoup plus difficile, l'entrainement pourrait donc s'avérer moins efficace.**\n",
    "\n",
    "\n",
    "## How?"
   ]
  },
  {
   "cell_type": "markdown",
   "metadata": {},
   "source": [
    "# 1. Input shaper\n",
    "\n",
    "On souhaite que le modèle puisse gérer des input data de differentes shapes.\n",
    "\n",
    "* Soit un réseau capable de gerer des entrées de taille différentes;\n",
    "* Soit un processing qui les mets au même format (padding and/or resizing)\n",
    "\n",
    "\n",
    "#### One shape to rule them all\n",
    "\n",
    "4D tensor : (row_count, col_count, channel, time)"
   ]
  },
  {
   "cell_type": "code",
   "execution_count": null,
   "metadata": {},
   "outputs": [],
   "source": [
    "# TODO : put imports and loading functions in utilities\n",
    "# Imports\n",
    "import os\n",
    "import sys\n",
    "import tensorflow as tf\n",
    "from IPython.display import Image, SVG\n",
    "import matplotlib.pyplot as plt\n",
    "%matplotlib inline\n",
    "import numpy as np\n",
    "Model = tf.keras.models.Model\n",
    "Sequential = tf.keras.models.Sequential\n",
    "Input, Dense, Conv2D, Conv3D, MaxPooling2D, MaxPooling3D, UpSampling2D, UpSampling3D, Flatten, Reshape, Dropout = tf.keras.layers.Input, tf.keras.layers.Dense, tf.keras.layers.Conv2D, tf.keras.layers.Conv3D, tf.keras.layers.MaxPooling2D, tf.keras.layers.MaxPooling3D, tf.keras.layers.UpSampling2D, tf.keras.layers.UpSampling3D, tf.keras.layers.Flatten, tf.keras.layers.Reshape, tf.keras.layers.Dropout\n",
    "regularizers = tf.keras.regularizers\n",
    "load_model = tf.keras.models.load_model\n",
    "from utilities import *\n",
    "sys.path.append('/home/adrien/Documents/autodl/codalab_competition_bundle/AutoDL_starting_kit/AutoDL_ingestion_program/')\n",
    "from dataset import AutoDLDataset"
   ]
  },
  {
   "cell_type": "code",
   "execution_count": 33,
   "metadata": {},
   "outputs": [],
   "source": [
    "# Parameters\n",
    "models_path = 'models'\n",
    "data_path = 'data'\n",
    "load = True\n",
    "save = True\n",
    "verbose = False\n",
    "autoencoder_name = 'autoencoder'\n",
    "autoencoder_path = os.path.join(models_path, autoencoder_name+'.h5')\n",
    "model_name = 'model'\n",
    "model_path = os.path.join(models_path, model_name+'.h5')"
   ]
  },
  {
   "cell_type": "code",
   "execution_count": 25,
   "metadata": {},
   "outputs": [],
   "source": [
    "# Load a dataset\n",
    "dataset_name = 'munster'\n",
    "input_dir = os.path.join(data_path, dataset_name)\n",
    "basename = dataset_name + '.data' # why?\n",
    "D_train = AutoDLDataset(os.path.join(input_dir, basename, 'train'))\n",
    "D_test = AutoDLDataset(os.path.join(input_dir, basename, 'test'))\n",
    "x_train, y_train = input_fn(D_train.get_dataset())\n",
    "x_test, y_test = input_fn(D_test.get_dataset())"
   ]
  },
  {
   "cell_type": "code",
   "execution_count": 26,
   "metadata": {},
   "outputs": [
    {
     "name": "stdout",
     "output_type": "stream",
     "text": [
      "(1, 28, 28, 1)\n",
      "[[0. 0. 0. 1. 0. 0. 0. 0. 0. 0.]]\n"
     ]
    },
    {
     "data": {
      "text/plain": [
       "<matplotlib.image.AxesImage at 0x7fea36ec4400>"
      ]
     },
     "execution_count": 26,
     "metadata": {},
     "output_type": "execute_result"
    },
    {
     "data": {
      "image/png": "[encoded data removed]",
      "text/plain": [
       "<Figure size 432x288 with 1 Axes>"
      ]
     },
     "metadata": {
      "needs_background": "light"
     },
     "output_type": "display_data"
    }
   ],
   "source": [
    "# Tests, visualization\n",
    "with tf.Session() as sess:\n",
    "    for _ in range(4):\n",
    "        tensor_4d, labels = sess.run(x_train), sess.run(y_train)\n",
    "        \n",
    "input_shape = tensor_4d.shape[1:]\n",
    "print(input_shape)\n",
    "print(labels)\n",
    "plt.imshow(tensor_4d.reshape((28,28))) #((32,32,3)))"
   ]
  },
  {
   "cell_type": "markdown",
   "metadata": {},
   "source": [
    "# 2. Autoencoder\n",
    "\n",
    "Unsupervised, no task. Train on every datasets.\n",
    "\n",
    "Plutôt que d'avoir un modèle génératif qui permet de faire de l'augmentation de données, celui-ci apprend une représentation abstraite des données."
   ]
  },
  {
   "cell_type": "code",
   "execution_count": 44,
   "metadata": {},
   "outputs": [
    {
     "name": "stdout",
     "output_type": "stream",
     "text": [
      "autoencoder initialized.\n"
     ]
    }
   ],
   "source": [
    "# Load or initialize autoencder\n",
    "if os.path.isfile(autoencoder_path) and load:\n",
    "    autoencoder = load_model(autoencoder_path)\n",
    "    print('{} loaded.'.format(autoencoder_name))\n",
    "\n",
    "else:\n",
    "    kernel = (1, 3, 3)\n",
    "    pool = (1, 2, 2)\n",
    "    strides = (2,2,2)\n",
    "    autoencoder = Sequential()\n",
    "\n",
    "    # Encoder Layers\n",
    "    autoencoder.add(Conv3D(16, kernel, activation='relu', padding='same', input_shape=input_shape))\n",
    "    autoencoder.add(MaxPooling3D(pool, padding='same'))\n",
    "    autoencoder.add(Conv3D(8, kernel, activation='relu', padding='same'))\n",
    "    autoencoder.add(MaxPooling3D(pool, padding='same'))\n",
    "    autoencoder.add(Conv3D(8, kernel, strides=strides, activation='relu', padding='same'))\n",
    "\n",
    "    # Flatten encoding for visualization\n",
    "    autoencoder.add(Flatten())\n",
    "    autoencoder.add(Reshape((1, 4, 4, 8)))\n",
    "\n",
    "    # Decoder Layers\n",
    "    autoencoder.add(Conv3D(8, kernel, activation='relu', padding='same'))\n",
    "    autoencoder.add(UpSampling3D(pool))\n",
    "    autoencoder.add(Conv3D(8, kernel, activation='relu', padding='same'))\n",
    "    autoencoder.add(UpSampling3D(pool))\n",
    "    autoencoder.add(Conv3D(16, kernel, activation='relu'))\n",
    "    autoencoder.add(UpSampling3D(pool))\n",
    "    autoencoder.add(Conv3D(1, kernel, activation='sigmoid', padding='same'))\n",
    "    print('{} initialized.'.format(autoencoder_name))\n",
    "    \n",
    "    if verbose:\n",
    "        autoencoder.summary()"
   ]
  },
  {
   "cell_type": "code",
   "execution_count": 46,
   "metadata": {},
   "outputs": [],
   "source": [
    "# Define encoder\n",
    "encoder = Model(inputs=autoencoder.input, outputs=autoencoder.get_layer('flatten', 5).output)\n",
    "\n",
    "if verbose:\n",
    "    encoder.summary()"
   ]
  },
  {
   "cell_type": "code",
   "execution_count": 88,
   "metadata": {},
   "outputs": [
    {
     "name": "stdout",
     "output_type": "stream",
     "text": [
      "Epoch 1/1\n",
      "10000/10000 [==============================] - 84s 8ms/step - loss: 0.1027 - val_loss: 0.0972\n",
      "autoencoder saved.\n"
     ]
    }
   ],
   "source": [
    "# Train and save autoencoder\n",
    "autoencoder.compile(optimizer='adam', loss='binary_crossentropy')\n",
    "autoencoder.fit(x_train, x_train, epochs=1, steps_per_epoch=10000, validation_data=(x_test, x_test), validation_steps=1000)\n",
    "\n",
    "if save:\n",
    "    autoencoder.save(autoencoder_path)\n",
    "    print('{} saved.'.format(autoencoder_name))"
   ]
  },
  {
   "cell_type": "code",
   "execution_count": 89,
   "metadata": {},
   "outputs": [
    {
     "data": {
      "text/plain": [
       "<matplotlib.image.AxesImage at 0x7fe9a15cf940>"
      ]
     },
     "execution_count": 89,
     "metadata": {},
     "output_type": "execute_result"
    },
    {
     "data": {
      "image/png": "[encoded data removed]",
      "text/plain": [
       "<Figure size 432x288 with 1 Axes>"
      ]
     },
     "metadata": {
      "needs_background": "light"
     },
     "output_type": "display_data"
    }
   ],
   "source": [
    "reconstructed_tensor_4d = autoencoder.predict(tensor_4d)[0]\n",
    "plt.imshow(reconstructed_tensor_4d.reshape((28,28)))"
   ]
  },
  {
   "cell_type": "markdown",
   "metadata": {},
   "source": [
    "# 3. Model\n",
    "\n",
    "Un discriminant unique pour chaque problème de chaque dataset."
   ]
  },
  {
   "cell_type": "code",
   "execution_count": 80,
   "metadata": {},
   "outputs": [
    {
     "name": "stdout",
     "output_type": "stream",
     "text": [
      "model initialized.\n"
     ]
    }
   ],
   "source": [
    "# Load or define model\n",
    "# TODO : decide if it loads the encoder part\n",
    "if os.path.isfile(model_path) and load:\n",
    "    model = load_model(model_path)\n",
    "    print('{} loaded.'.format(model_name))\n",
    "\n",
    "else:\n",
    "    model = Sequential()\n",
    "    model.add(encoder)\n",
    "    model.add(Dense(512, activation=tf.nn.relu))\n",
    "    model.add(Dropout(0.2))\n",
    "    model.add(Dense(10, activation=tf.nn.sigmoid))\n",
    "\n",
    "    model.compile(optimizer='adam', loss='categorical_crossentropy', metrics=['accuracy'])\n",
    "    print('{} initialized.'.format(model_name))\n",
    "    \n",
    "if verbose:\n",
    "    model.summary()"
   ]
  },
  {
   "cell_type": "code",
   "execution_count": 82,
   "metadata": {},
   "outputs": [
    {
     "name": "stdout",
     "output_type": "stream",
     "text": [
      "Epoch 1/1\n",
      "10000/10000 [==============================] - 66s 7ms/step - loss: 0.1459 - acc: 0.9576\n",
      "5000/5000 [==============================] - 7s 1ms/step\n",
      "[0.0, 0.0956]\n",
      "model saved.\n"
     ]
    }
   ],
   "source": [
    "# Train, save and evaluate model\n",
    "model.fit(x_train, y_train, epochs=1, steps_per_epoch=10000)\n",
    "print(model.evaluate(x_test, y_test, steps=5000))\n",
    "\n",
    "if save:\n",
    "    model.save(model_path)\n",
    "    print('{} saved.'.format(model_name))"
   ]
  },
  {
   "cell_type": "code",
   "execution_count": 78,
   "metadata": {},
   "outputs": [],
   "source": [
    "# Model : SVM\n",
    "#from sklearn.svm import SVC\n",
    "\n",
    "#clf = SVC(C=6, kernel='poly')\n",
    "\n",
    "# extract features\n",
    "#features_train = encoder.predict(x_train, steps=1)\n",
    "#features_test = encoder.predict(x_test, steps=1)\n",
    "\n",
    "#clf.fit(features_train, y_train)\n",
    "#clf.score(features_test, y_test)"
   ]
  },
  {
   "cell_type": "code",
   "execution_count": null,
   "metadata": {},
   "outputs": [],
   "source": []
  }
 ],
 "metadata": {
  "kernelspec": {
   "display_name": "p35_jupyter",
   "language": "python",
   "name": "p35_jupyter"
  },
  "language_info": {
   "codemirror_mode": {
    "name": "ipython",
    "version": 3
   },
   "file_extension": ".py",
   "mimetype": "text/x-python",
   "name": "python",
   "nbconvert_exporter": "python",
   "pygments_lexer": "ipython3",
   "version": "3.5.6"
  }
 },
 "nbformat": 4,
 "nbformat_minor": 2
}
